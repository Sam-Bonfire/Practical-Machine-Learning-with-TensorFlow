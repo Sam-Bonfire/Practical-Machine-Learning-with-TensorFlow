{
  "nbformat": 4,
  "nbformat_minor": 0,
  "metadata": {
    "colab": {
      "name": "beginner.ipynb",
      "provenance": [],
      "collapsed_sections": [],
      "authorship_tag": "ABX9TyO5RuPO/YkyEs4zH4zvMLE8"
    },
    "kernelspec": {
      "name": "python3",
      "display_name": "Python 3"
    }
  },
  "cells": [
    {
      "cell_type": "code",
      "execution_count": 1,
      "metadata": {},
      "outputs": [],
      "source": [
        "import tensorflow as tf"
      ]
    },
    {
      "cell_type": "markdown",
      "metadata": {
        "colab_type": "text",
        "id": "dmIsIeNql3Je"
      },
      "source": [
        "### Tensorflow package has a bunch of datasets available by default\n",
        "We will be using the MNIST dataset for the example\n",
        "\n",
        "We normalise the data for faster processing by dividing by 255.0"
      ]
    },
    {
      "cell_type": "code",
      "execution_count": 2,
      "metadata": {},
      "outputs": [
        {
          "name": "stdout",
          "output_type": "stream",
          "text": "Downloading data from https://storage.googleapis.com/tensorflow/tf-keras-datasets/mnist.npz\n11493376/11490434 [==============================] - 1s 0us/step\n"
        }
      ],
      "source": [
        "mnist = tf.keras.datasets.mnist\n",
        "(x_train, y_train),(x_test, y_test) = mnist.load_data()\n",
        "x_train, x_test = x_train/255.0, x_test/255.0"
      ]
    },
    {
      "cell_type": "markdown",
      "metadata": {
        "colab_type": "text",
        "id": "WflWRfukptJ9"
      },
      "source": [
        "Create our model for the training"
      ]
    },
    {
      "cell_type": "code",
      "execution_count": 3,
      "metadata": {},
      "outputs": [],
      "source": [
        "model = tf.keras.models.Sequential([\n",
        "                                    tf.keras.layers.Flatten(input_shape=(28,28)),\n",
        "                                    tf.keras.layers.Dense(128, activation='relu'),\n",
        "                                    tf.keras.layers.Dropout(0.2),\n",
        "                                    tf.keras.layers.Dense(10, activation='softmax')\n",
        "])\n",
        "\n",
        "model.compile(optimizer = 'adam',\n",
        "              loss='sparse_categorical_crossentropy',\n",
        "              metrics = ['accuracy'])"
      ]
    },
    {
      "cell_type": "markdown",
      "metadata": {
        "colab_type": "text",
        "id": "l1J1z8P2pZXf"
      },
      "source": [
        "Fit the model to the training set and then test it's performance"
      ]
    },
    {
      "cell_type": "code",
      "execution_count": 4,
      "metadata": {},
      "outputs": [
        {
          "name": "stdout",
          "output_type": "stream",
          "text": "Train on 60000 samples\nEpoch 1/5\n60000/60000 [==============================] - 12s 199us/sample - loss: 0.3007 - accuracy: 0.9125\nEpoch 2/5\n60000/60000 [==============================] - 11s 180us/sample - loss: 0.1447 - accuracy: 0.9563\nEpoch 3/5\n60000/60000 [==============================] - 12s 205us/sample - loss: 0.1091 - accuracy: 0.9677\nEpoch 4/5\n60000/60000 [==============================] - 10s 160us/sample - loss: 0.0911 - accuracy: 0.9722\nEpoch 5/5\n60000/60000 [==============================] - 10s 166us/sample - loss: 0.0751 - accuracy: 0.9767\n10000/10000 [==============================] - 1s 112us/sample - loss: 0.0760 - accuracy: 0.9759\n"
        },
        {
          "data": {
            "text/plain": "[0.07596562847527676, 0.9759]"
          },
          "execution_count": 4,
          "metadata": {},
          "output_type": "execute_result"
        }
      ],
      "source": [
        "model.fit(x_train, y_train, epochs=5)\n",
        "model.evaluate(x_test, y_test)"
      ]
    },
    {
      "cell_type": "markdown",
      "metadata": {
        "colab_type": "text",
        "id": "v5iWxWTlqA_1"
      },
      "source": [
        "Model training accuracy is ~98%"
      ]
    }
  ]
}